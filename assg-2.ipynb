{
 "cells": [
  {
   "cell_type": "code",
   "execution_count": 7,
   "metadata": {},
   "outputs": [
    {
     "name": "stdout",
     "output_type": "stream",
     "text": [
      "\n",
      "*\n",
      "**\n",
      "***\n",
      "****\n",
      "*****\n",
      "****\n",
      "***\n",
      "**\n",
      "*\n"
     ]
    }
   ],
   "source": [
    "#problem 1\n",
    "num=5 #ypu can draw the pattern for any no. of rows.\n",
    "for i in range(num):\n",
    "    for j in range(i):\n",
    "        print(\"*\",end=\"\")\n",
    "    print(end=\"\\n\")\n",
    "for i in range(num,0,-1):\n",
    "    for j in range(0,i):\n",
    "        print(\"*\",end=\"\")\n",
    "    print(end=\"\\n\")\n",
    "    "
   ]
  },
  {
   "cell_type": "code",
   "execution_count": 11,
   "metadata": {},
   "outputs": [
    {
     "name": "stdout",
     "output_type": "stream",
     "text": [
      "Enter the word:ineuron\n",
      "Reversed string: norueni\n"
     ]
    }
   ],
   "source": [
    "# problem 2\n",
    "def reverse(string):\n",
    "    return string[::-1]                 \n",
    "\n",
    "string = input(\"Enter the word:\")\n",
    "print(\"Reversed string:\",reverse(string))"
   ]
  }
 ],
 "metadata": {
  "kernelspec": {
   "display_name": "Python 3",
   "language": "python",
   "name": "python3"
  },
  "language_info": {
   "codemirror_mode": {
    "name": "ipython",
    "version": 3
   },
   "file_extension": ".py",
   "mimetype": "text/x-python",
   "name": "python",
   "nbconvert_exporter": "python",
   "pygments_lexer": "ipython3",
   "version": "3.8.3"
  }
 },
 "nbformat": 4,
 "nbformat_minor": 4
}
