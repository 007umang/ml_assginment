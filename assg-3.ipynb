{
 "cells": [
  {
   "cell_type": "markdown",
   "metadata": {},
   "source": [
    "# Assignment 3"
   ]
  },
  {
   "cell_type": "code",
   "execution_count": 22,
   "metadata": {},
   "outputs": [
    {
     "name": "stdout",
     "output_type": "stream",
     "text": [
      "my reduce function doing addition: 12\n",
      "my reduce function doing addition: 40\n"
     ]
    }
   ],
   "source": [
    "#problem 1.1\n",
    "\n",
    "# user define reduce function \n",
    "def myreduce(func,list1):\n",
    "    value=list1[0]\n",
    "    for i in range(1,len(list1)):\n",
    "        value=func(value,list1[i])\n",
    "    return value\n",
    "# addition function\n",
    "def add(x,y):\n",
    "    return x+y\n",
    "# multiplication function\n",
    "def mul(x,y):\n",
    "    return x*y\n",
    "\n",
    "list1=[1,2,4,5]\n",
    "\n",
    "print(\"my reduce function doing addition:\",myreduce(add,list1))\n",
    "print(\"my reduce function doing multiplication:\",myreduce(mul,list1))\n"
   ]
  },
  {
   "cell_type": "code",
   "execution_count": 35,
   "metadata": {},
   "outputs": [
    {
     "name": "stdout",
     "output_type": "stream",
     "text": [
      "filtered elements:- [2, 4, 6, 8]\n"
     ]
    }
   ],
   "source": [
    "#problem 1.2\n",
    "def myfilter(func,list2):\n",
    "    filtered_list=[]\n",
    "    for i in list2:\n",
    "        if(func(i)):\n",
    "            filtered_list.append(i)\n",
    "        else:\n",
    "            continue\n",
    "    return filtered_list\n",
    "\n",
    "def check_even(x):\n",
    "    \n",
    "    dt=(lambda x:(x%2 and 'odd' or 'even'))(x)\n",
    "    if dt=='odd':\n",
    "        return False\n",
    "    else:\n",
    "        return True\n",
    "                \n",
    "list2=[2,3,4,5,6,7,8]\n",
    "print(\"filtered elements:-\",myfilter(check_even,list2))"
   ]
  },
  {
   "cell_type": "markdown",
   "metadata": {},
   "source": [
    "# list comprehension"
   ]
  },
  {
   "cell_type": "code",
   "execution_count": 48,
   "metadata": {},
   "outputs": [
    {
     "data": {
      "text/plain": [
       "['x', 'xx', 'xxx', 'xxxx', 'y', 'yy', 'yyy', 'yyyy', 'z', 'zz', 'zzz', 'zzzz']"
      ]
     },
     "execution_count": 48,
     "metadata": {},
     "output_type": "execute_result"
    }
   ],
   "source": [
    "list1=['x','y','z']\n",
    "[i*x for x in list1 for i in range(1,5)]"
   ]
  },
  {
   "cell_type": "code",
   "execution_count": 82,
   "metadata": {},
   "outputs": [
    {
     "data": {
      "text/plain": [
       "['x', 'y', 'z', 'xx', 'yy', 'zz', 'xxx', 'yyy', 'zzz', 'xxxx', 'yyyy', 'zzzz']"
      ]
     },
     "execution_count": 82,
     "metadata": {},
     "output_type": "execute_result"
    }
   ],
   "source": [
    "[i*x for i in range(1,5) for x in ['x','y','z'] ]\n"
   ]
  },
  {
   "cell_type": "code",
   "execution_count": 103,
   "metadata": {},
   "outputs": [
    {
     "data": {
      "text/plain": [
       "[[2], [3], [4], [3], [4], [5], [4], [5], [6]]"
      ]
     },
     "execution_count": 103,
     "metadata": {},
     "output_type": "execute_result"
    }
   ],
   "source": [
    "[[i+x] for i in [1,2,3] for x in range(1,4)]"
   ]
  },
  {
   "cell_type": "code",
   "execution_count": 122,
   "metadata": {},
   "outputs": [
    {
     "data": {
      "text/plain": [
       "[[2, 3, 4, 5], [3, 4, 5, 6], [4, 5, 6, 7], [5, 6, 7, 8]]"
      ]
     },
     "execution_count": 122,
     "metadata": {},
     "output_type": "execute_result"
    }
   ],
   "source": [
    "[[x+i for x in [1,2,3,4]]for i in range(1,5)]"
   ]
  },
  {
   "cell_type": "code",
   "execution_count": 131,
   "metadata": {},
   "outputs": [
    {
     "data": {
      "text/plain": [
       "[(1, 1), (2, 1), (3, 1), (1, 2), (2, 2), (3, 2), (1, 3), (2, 3), (3, 3)]"
      ]
     },
     "execution_count": 131,
     "metadata": {},
     "output_type": "execute_result"
    }
   ],
   "source": [
    "[(b,a) for a in (1,2,3) for b in range(1,4)]"
   ]
  }
 ],
 "metadata": {
  "kernelspec": {
   "display_name": "Python 3",
   "language": "python",
   "name": "python3"
  },
  "language_info": {
   "codemirror_mode": {
    "name": "ipython",
    "version": 3
   },
   "file_extension": ".py",
   "mimetype": "text/x-python",
   "name": "python",
   "nbconvert_exporter": "python",
   "pygments_lexer": "ipython3",
   "version": "3.8.3"
  }
 },
 "nbformat": 4,
 "nbformat_minor": 4
}
